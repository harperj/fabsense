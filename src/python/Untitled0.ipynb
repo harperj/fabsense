{
 "metadata": {
  "name": ""
 },
 "nbformat": 3,
 "nbformat_minor": 0,
 "worksheets": [
  {
   "cells": [
    {
     "cell_type": "code",
     "collapsed": false,
     "input": [
      "%pylab\n",
      "import dtw_test"
     ],
     "language": "python",
     "metadata": {},
     "outputs": [
      {
       "output_type": "stream",
       "stream": "stdout",
       "text": [
        "Using matplotlib backend: MacOSX\n",
        "Populating the interactive namespace from numpy and matplotlib\n"
       ]
      },
      {
       "output_type": "stream",
       "stream": "stderr",
       "text": [
        "/Users/harper/Library/Enthought/Canopy_64bit/User/lib/python2.7/site-packages/pytz/__init__.py:29: UserWarning: Module errno was already imported from None, but /Users/harper/Library/Enthought/Canopy_64bit/User/lib/python2.7/site-packages is being added to sys.path\n",
        "  from pkg_resources import resource_stream\n"
       ]
      }
     ],
     "prompt_number": 1
    },
    {
     "cell_type": "code",
     "collapsed": false,
     "input": [
      "from dtw_test import *\n",
      "recording = load_imu_csv(\"testVideo-7.csv\")"
     ],
     "language": "python",
     "metadata": {},
     "outputs": [],
     "prompt_number": 2
    },
    {
     "cell_type": "code",
     "collapsed": false,
     "input": [
      "feature = extract_feature(1386186027.470,1386186028.165,recording)"
     ],
     "language": "python",
     "metadata": {},
     "outputs": [],
     "prompt_number": 3
    },
    {
     "cell_type": "code",
     "collapsed": false,
     "input": [
      "feature"
     ],
     "language": "python",
     "metadata": {},
     "outputs": [
      {
       "html": [
        "<pre>\n",
        "&lt;class 'pandas.core.frame.DataFrame'&gt;\n",
        "DatetimeIndex: 80 entries, 2013-12-04 19:40:27.470000 to 2013-12-04 19:40:28.160000\n",
        "Data columns (total 9 columns):\n",
        "accX    80  non-null values\n",
        "accY    80  non-null values\n",
        "accZ    80  non-null values\n",
        "gyrX    80  non-null values\n",
        "gyrY    80  non-null values\n",
        "gyrZ    80  non-null values\n",
        "magX    80  non-null values\n",
        "magY    80  non-null values\n",
        "magZ    80  non-null values\n",
        "dtypes: float64(9)\n",
        "</pre>"
       ],
       "metadata": {},
       "output_type": "pyout",
       "prompt_number": 4,
       "text": [
        "<class 'pandas.core.frame.DataFrame'>\n",
        "DatetimeIndex: 80 entries, 2013-12-04 19:40:27.470000 to 2013-12-04 19:40:28.160000\n",
        "Data columns (total 9 columns):\n",
        "accX    80  non-null values\n",
        "accY    80  non-null values\n",
        "accZ    80  non-null values\n",
        "gyrX    80  non-null values\n",
        "gyrY    80  non-null values\n",
        "gyrZ    80  non-null values\n",
        "magX    80  non-null values\n",
        "magY    80  non-null values\n",
        "magZ    80  non-null values\n",
        "dtypes: float64(9)"
       ]
      }
     ],
     "prompt_number": 4
    },
    {
     "cell_type": "code",
     "collapsed": false,
     "input": [
      "recording"
     ],
     "language": "python",
     "metadata": {},
     "outputs": [
      {
       "html": [
        "<pre>\n",
        "&lt;class 'pandas.core.frame.DataFrame'&gt;\n",
        "DatetimeIndex: 2890 entries, 2013-12-04 19:40:07.830000 to 2013-12-04 19:40:32.930000\n",
        "Data columns (total 9 columns):\n",
        "accX    2890  non-null values\n",
        "accY    2890  non-null values\n",
        "accZ    2890  non-null values\n",
        "gyrX    2890  non-null values\n",
        "gyrY    2890  non-null values\n",
        "gyrZ    2890  non-null values\n",
        "magX    2890  non-null values\n",
        "magY    2890  non-null values\n",
        "magZ    2890  non-null values\n",
        "dtypes: float64(9)\n",
        "</pre>"
       ],
       "metadata": {},
       "output_type": "pyout",
       "prompt_number": 5,
       "text": [
        "<class 'pandas.core.frame.DataFrame'>\n",
        "DatetimeIndex: 2890 entries, 2013-12-04 19:40:07.830000 to 2013-12-04 19:40:32.930000\n",
        "Data columns (total 9 columns):\n",
        "accX    2890  non-null values\n",
        "accY    2890  non-null values\n",
        "accZ    2890  non-null values\n",
        "gyrX    2890  non-null values\n",
        "gyrY    2890  non-null values\n",
        "gyrZ    2890  non-null values\n",
        "magX    2890  non-null values\n",
        "magY    2890  non-null values\n",
        "magZ    2890  non-null values\n",
        "dtypes: float64(9)"
       ]
      }
     ],
     "prompt_number": 5
    },
    {
     "cell_type": "code",
     "collapsed": false,
     "input": [
      "scores = dtw_run(recording, feature, 75, 85)"
     ],
     "language": "python",
     "metadata": {},
     "outputs": [],
     "prompt_number": 10
    },
    {
     "cell_type": "code",
     "collapsed": false,
     "input": [
      "import matplotlib.pyplot as plt"
     ],
     "language": "python",
     "metadata": {},
     "outputs": [],
     "prompt_number": 11
    },
    {
     "cell_type": "code",
     "collapsed": false,
     "input": [
      "for i in xrange(len(scores)):\n",
      "    scores[i] = scores[i][0]"
     ],
     "language": "python",
     "metadata": {},
     "outputs": [],
     "prompt_number": 12
    },
    {
     "cell_type": "code",
     "collapsed": false,
     "input": [
      "plt.plot(recording.index.values, scores)"
     ],
     "language": "python",
     "metadata": {},
     "outputs": [
      {
       "metadata": {},
       "output_type": "pyout",
       "prompt_number": 13,
       "text": [
        "[<matplotlib.lines.Line2D at 0x11037f710>]"
       ]
      }
     ],
     "prompt_number": 13
    },
    {
     "cell_type": "code",
     "collapsed": false,
     "input": [],
     "language": "python",
     "metadata": {},
     "outputs": [],
     "prompt_number": 9
    }
   ],
   "metadata": {}
  }
 ]
}